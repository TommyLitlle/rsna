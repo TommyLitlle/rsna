{
 "cells": [
  {
   "cell_type": "code",
   "execution_count": 1,
   "metadata": {},
   "outputs": [],
   "source": [
    "import pandas as pd\n",
    "alpha = 0.95\n",
    "filename = \"blend_01.csv.gz\"\n",
    "best = pd.read_csv(\"/data/dmitry/RSNA/Submit/sub_lstmdelta_emb_resnext101v12_fold012__resnext101v13_fold0_gepoch01234_LU_2048.csv.gz\").sort_values(\"ID\").reset_index(drop = True)\n",
    "worst = pd.read_csv(\"/data/dmitry/RSNA/Submit/submit_04_sub_lstmCNN_emb_resnext101v12_sz480_LU_2048.csv.gz\").sort_values(\"ID\").reset_index(drop = True)\n",
    "submit = best.copy()\n",
    "submit[\"Label\"] = (alpha*best[\"Label\"].values + (1.-alpha)*worst[\"Label\"].values).clip(0.00001, 0.99999)\n",
    "submit.to_csv(filename, compression = 'gzip', index = False)"
   ]
  },
  {
   "cell_type": "code",
   "execution_count": 13,
   "metadata": {},
   "outputs": [],
   "source": [
    "# !head $filename"
   ]
  },
  {
   "cell_type": "code",
   "execution_count": 2,
   "metadata": {},
   "outputs": [
    {
     "name": "stdout",
     "output_type": "stream",
     "text": [
      "100%|██████████| 5.57M/5.57M [00:02<00:00, 2.47MB/s]\n",
      "Successfully submitted to RSNA Intracranial Hemorrhage Detection"
     ]
    }
   ],
   "source": [
    "!kaggle competitions submit -c rsna-intracranial-hemorrhage-detection -f $filename -m \"blend, coeff .95\""
   ]
  },
  {
   "cell_type": "code",
   "execution_count": 3,
   "metadata": {},
   "outputs": [],
   "source": [
    "import pandas as pd\n",
    "alpha = 0.85\n",
    "filename = \"blend_02.csv.gz\"\n",
    "best = pd.read_csv(\"/data/dmitry/RSNA/Submit/sub_lstmdelta_emb_resnext101v12_fold012__resnext101v13_fold0_gepoch01234_LU_2048.csv.gz\").sort_values(\"ID\").reset_index(drop = True)\n",
    "worst = pd.read_csv(\"/data/dmitry/RSNA/Submit/submit_04_sub_lstmCNN_emb_resnext101v12_sz480_LU_2048.csv.gz\").sort_values(\"ID\").reset_index(drop = True)\n",
    "submit = best.copy()\n",
    "submit[\"Label\"] = (alpha*best[\"Label\"].values + (1.-alpha)*worst[\"Label\"].values).clip(0.00001, 0.99999)\n",
    "submit.to_csv(filename, compression = 'gzip', index = False)"
   ]
  },
  {
   "cell_type": "code",
   "execution_count": 4,
   "metadata": {},
   "outputs": [
    {
     "name": "stdout",
     "output_type": "stream",
     "text": [
      "100%|██████████| 5.56M/5.56M [00:02<00:00, 2.63MB/s]\n",
      "Successfully submitted to RSNA Intracranial Hemorrhage Detection"
     ]
    }
   ],
   "source": [
    "!kaggle competitions submit -c rsna-intracranial-hemorrhage-detection -f $filename -m \"blend, coeff .85\""
   ]
  },
  {
   "cell_type": "code",
   "execution_count": 5,
   "metadata": {},
   "outputs": [],
   "source": [
    "import pandas as pd\n",
    "alpha = 0.9\n",
    "filename = \"blend_03.csv.gz\"\n",
    "best = pd.read_csv(\"/data/dmitry/RSNA/Submit/sub_lstmdelta_emb_resnext101v12_fold012__resnext101v13_fold0_gepoch01234_LU_2048.csv.gz\").sort_values(\"ID\").reset_index(drop = True)\n",
    "worst = pd.read_csv(\"/data/dmitry/RSNA/Submit/submit_04_sub_lstmCNN_emb_resnext101v12_sz480_LU_2048.csv.gz\").sort_values(\"ID\").reset_index(drop = True)\n",
    "submit = best.copy()\n",
    "submit[\"Label\"] = (alpha*best[\"Label\"].values + (1.-alpha)*worst[\"Label\"].values).clip(0.00001, 0.99999)\n",
    "submit.to_csv(filename, compression = 'gzip', index = False)"
   ]
  },
  {
   "cell_type": "code",
   "execution_count": 6,
   "metadata": {},
   "outputs": [
    {
     "name": "stdout",
     "output_type": "stream",
     "text": [
      "100%|██████████| 5.48M/5.48M [00:02<00:00, 2.04MB/s]\n",
      "Successfully submitted to RSNA Intracranial Hemorrhage Detection"
     ]
    }
   ],
   "source": [
    "!kaggle competitions submit -c rsna-intracranial-hemorrhage-detection -f $filename -m \"blend, coeff .9\""
   ]
  },
  {
   "cell_type": "code",
   "execution_count": null,
   "metadata": {},
   "outputs": [],
   "source": []
  }
 ],
 "metadata": {
  "kernelspec": {
   "display_name": "Python 3",
   "language": "python",
   "name": "python3"
  },
  "language_info": {
   "codemirror_mode": {
    "name": "ipython",
    "version": 3
   },
   "file_extension": ".py",
   "mimetype": "text/x-python",
   "name": "python",
   "nbconvert_exporter": "python",
   "pygments_lexer": "ipython3",
   "version": "3.6.9"
  }
 },
 "nbformat": 4,
 "nbformat_minor": 4
}
